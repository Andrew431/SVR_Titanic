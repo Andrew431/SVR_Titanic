{
 "cells": [
  {
   "cell_type": "code",
   "execution_count": 28,
   "metadata": {
    "collapsed": true
   },
   "outputs": [],
   "source": [
    "import numpy as np\n",
    "from sklearn.svm import SVR\n",
    "from sklearn.metrics import accuracy_score"
   ]
  },
  {
   "cell_type": "code",
   "execution_count": 29,
   "metadata": {
    "collapsed": true
   },
   "outputs": [],
   "source": [
    "output2 = []\n",
    "def sort_to_int(output):                        #As the output was to multiple decimal places, this function sorts it to the \n",
    "    for k, v in enumerate(output):              #closest integer    \n",
    "        if v < 1.5:                             #Appends new array to output2\n",
    "            output2.append('1')\n",
    "        elif v < 2.5:\n",
    "            output2.append('2')\n",
    "        else:\n",
    "            output2.append('3')\n",
    "        "
   ]
  },
  {
   "cell_type": "code",
   "execution_count": 30,
   "metadata": {},
   "outputs": [],
   "source": [
    "datafile = open('titanic.csv', 'r')\n",
    "datalines = datafile.readlines()\n",
    "train_data = datalines[:400]            #Split the data in to training and testing\n",
    "test_data = datalines[400:]\n",
    "train_data[1][1:].split(',')\n",
    "xtest = []\n",
    "ytest = []\n",
    "for lines in test_data[1:]:\n",
    "    xtest.append(lines.split(',')[10])         #Assigns x and y to the variables fare(x), and class(y)\n",
    "    ytest.append(lines.split(',')[2])\n",
    "    \n",
    "xtest = np.array(xtest)                   #The test data needed to be reshaped to fit the model. Therefore, numpy array was\n",
    "ytest = np.array(ytest)                   #used\n",
    "xtest_array = xtest.reshape(491,1)\n",
    "ytest_array = ytest.reshape(491,1)"
   ]
  },
  {
   "cell_type": "code",
   "execution_count": 31,
   "metadata": {},
   "outputs": [],
   "source": [
    "x = []\n",
    "y = []\n",
    "\n",
    "\n",
    "for lines in train_data[1:]:                  #Like above, x and y are assigned to the variables\n",
    "    x.append(lines.split(',')[10])\n",
    "    y.append(lines.split(',')[2])\n",
    "    \n",
    "\n",
    "x = np.array(x)\n",
    "y = np.array(y)\n",
    "x_array = x.reshape(399, 1)\n",
    "y_array = y.reshape(399, 1)"
   ]
  },
  {
   "cell_type": "code",
   "execution_count": 32,
   "metadata": {
    "collapsed": true
   },
   "outputs": [],
   "source": [
    "svr = SVR(kernel='rbf', C=1e3, gamma=0.1)         #The regression model is defined\n",
    "svr.fit(x_array, y_array.ravel())                 #The model is fit with the training data\n",
    "output = svr.predict(xtest_array)                 #Output contains the array of predictions\n"
   ]
  },
  {
   "cell_type": "code",
   "execution_count": 33,
   "metadata": {
    "collapsed": true
   },
   "outputs": [],
   "source": [
    "sort_to_int(output)      #Sends the array of predictions to be sorted"
   ]
  },
  {
   "cell_type": "code",
   "execution_count": 34,
   "metadata": {},
   "outputs": [
    {
     "name": "stdout",
     "output_type": "stream",
     "text": [
      "0.837067209776\n"
     ]
    }
   ],
   "source": [
    "print(accuracy_score(ytest_array, output2))     #Works out the accuracy of the model, then prints it"
   ]
  },
  {
   "cell_type": "code",
   "execution_count": 36,
   "metadata": {},
   "outputs": [
    {
     "name": "stdout",
     "output_type": "stream",
     "text": [
      "2\n"
     ]
    }
   ],
   "source": [
    "single_input = svr.predict(12)     #Enter fare to be predicted here\n",
    "\n",
    "\n",
    "if single_input < 1.5:\n",
    "    single_input = 1.5               #Sorts the results to remove decimals\n",
    "elif single_input <2.5:\n",
    "    single_input = 2\n",
    "else:\n",
    "    single_input = 3\n",
    "\n",
    "print(single_input)"
   ]
  },
  {
   "cell_type": "code",
   "execution_count": null,
   "metadata": {
    "collapsed": true
   },
   "outputs": [],
   "source": []
  }
 ],
 "metadata": {
  "kernelspec": {
   "display_name": "Python 3",
   "language": "python",
   "name": "python3"
  },
  "language_info": {
   "codemirror_mode": {
    "name": "ipython",
    "version": 3
   },
   "file_extension": ".py",
   "mimetype": "text/x-python",
   "name": "python",
   "nbconvert_exporter": "python",
   "pygments_lexer": "ipython3",
   "version": "3.6.1"
  }
 },
 "nbformat": 4,
 "nbformat_minor": 2
}
